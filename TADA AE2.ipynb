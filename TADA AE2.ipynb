{
 "cells": [
  {
   "cell_type": "markdown",
   "id": "9ca739a8-f0aa-4f25-9b35-5f156259081a",
   "metadata": {},
   "source": [
    "# Introduction\n",
    "\n",
    "In this project we will perform a sentiment analysis on [data](https://gluebenchmark.com/tasks) from one of GLUE benchmark tasks for natural language processing systems, Stanford Sentiment Treebank (SST-2). This data consists of ~68,000 sentences from movie reviews and annotations of their sentiment – 0 for negative reviews, 1 for positive reviews. We will utilize 3 files from this data to initialize, train, and deploy a machine learning algorithm to classify sentences as positive or negative reviews."
   ]
  },
  {
   "cell_type": "code",
   "execution_count": 1,
   "id": "067f44d1-1747-432d-82cb-8c9737dcb6e3",
   "metadata": {
    "tags": []
   },
   "outputs": [],
   "source": [
    "import pandas as pd\n",
    "import numpy as np\n",
    "import seaborn as sns\n",
    "import matplotlib.pyplot as plt\n",
    "from sklearn.feature_extraction.text import TfidfVectorizer\n",
    "from sklearn.feature_extraction.text import CountVectorizer\n",
    "from sklearn.linear_model import LogisticRegression\n",
    "from sklearn.naive_bayes import MultinomialNB\n",
    "from sklearn.metrics import accuracy_score, classification_report\n",
    "from sklearn import metrics\n",
    "from sklearn.model_selection import GridSearchCV\n",
    "import joblib"
   ]
  },
  {
   "cell_type": "markdown",
   "id": "9705b8a7-6997-4c5c-84fa-c098747a2fee",
   "metadata": {},
   "source": [
    "# 1.1 Data Processing\n",
    "\n",
    "Since the files are stored in a zip file, we will manually download the SST-2 data and unzip the folder to access the tsv files. We will then load the data into dataframes. We are doing this first to ensure our data is clean and free of duplicates. In this instance we already know that is the case with this data, but it is still good practice in general when performing data analysis."
   ]
  },
  {
   "cell_type": "code",
   "execution_count": 2,
   "id": "a54f5473-c26f-468b-a837-ce2aab611b22",
   "metadata": {
    "tags": []
   },
   "outputs": [
    {
     "data": {
      "text/html": [
       "<div>\n",
       "<style scoped>\n",
       "    .dataframe tbody tr th:only-of-type {\n",
       "        vertical-align: middle;\n",
       "    }\n",
       "\n",
       "    .dataframe tbody tr th {\n",
       "        vertical-align: top;\n",
       "    }\n",
       "\n",
       "    .dataframe thead th {\n",
       "        text-align: right;\n",
       "    }\n",
       "</style>\n",
       "<table border=\"1\" class=\"dataframe\">\n",
       "  <thead>\n",
       "    <tr style=\"text-align: right;\">\n",
       "      <th></th>\n",
       "      <th>sentence</th>\n",
       "      <th>label</th>\n",
       "    </tr>\n",
       "  </thead>\n",
       "  <tbody>\n",
       "    <tr>\n",
       "      <th>0</th>\n",
       "      <td>hide new secretions from the parental units</td>\n",
       "      <td>0</td>\n",
       "    </tr>\n",
       "    <tr>\n",
       "      <th>1</th>\n",
       "      <td>contains no wit , only labored gags</td>\n",
       "      <td>0</td>\n",
       "    </tr>\n",
       "    <tr>\n",
       "      <th>2</th>\n",
       "      <td>that loves its characters and communicates som...</td>\n",
       "      <td>1</td>\n",
       "    </tr>\n",
       "    <tr>\n",
       "      <th>3</th>\n",
       "      <td>remains utterly satisfied to remain the same t...</td>\n",
       "      <td>0</td>\n",
       "    </tr>\n",
       "    <tr>\n",
       "      <th>4</th>\n",
       "      <td>on the worst revenge-of-the-nerds clichés the ...</td>\n",
       "      <td>0</td>\n",
       "    </tr>\n",
       "    <tr>\n",
       "      <th>...</th>\n",
       "      <td>...</td>\n",
       "      <td>...</td>\n",
       "    </tr>\n",
       "    <tr>\n",
       "      <th>67344</th>\n",
       "      <td>a delightful comedy</td>\n",
       "      <td>1</td>\n",
       "    </tr>\n",
       "    <tr>\n",
       "      <th>67345</th>\n",
       "      <td>anguish , anger and frustration</td>\n",
       "      <td>0</td>\n",
       "    </tr>\n",
       "    <tr>\n",
       "      <th>67346</th>\n",
       "      <td>at achieving the modest , crowd-pleasing goals...</td>\n",
       "      <td>1</td>\n",
       "    </tr>\n",
       "    <tr>\n",
       "      <th>67347</th>\n",
       "      <td>a patient viewer</td>\n",
       "      <td>1</td>\n",
       "    </tr>\n",
       "    <tr>\n",
       "      <th>67348</th>\n",
       "      <td>this new jangle of noise , mayhem and stupidit...</td>\n",
       "      <td>0</td>\n",
       "    </tr>\n",
       "  </tbody>\n",
       "</table>\n",
       "<p>67349 rows × 2 columns</p>\n",
       "</div>"
      ],
      "text/plain": [
       "                                                sentence  label\n",
       "0           hide new secretions from the parental units       0\n",
       "1                   contains no wit , only labored gags       0\n",
       "2      that loves its characters and communicates som...      1\n",
       "3      remains utterly satisfied to remain the same t...      0\n",
       "4      on the worst revenge-of-the-nerds clichés the ...      0\n",
       "...                                                  ...    ...\n",
       "67344                               a delightful comedy       1\n",
       "67345                   anguish , anger and frustration       0\n",
       "67346  at achieving the modest , crowd-pleasing goals...      1\n",
       "67347                                  a patient viewer       1\n",
       "67348  this new jangle of noise , mayhem and stupidit...      0\n",
       "\n",
       "[67349 rows x 2 columns]"
      ]
     },
     "metadata": {},
     "output_type": "display_data"
    },
    {
     "data": {
      "text/html": [
       "<div>\n",
       "<style scoped>\n",
       "    .dataframe tbody tr th:only-of-type {\n",
       "        vertical-align: middle;\n",
       "    }\n",
       "\n",
       "    .dataframe tbody tr th {\n",
       "        vertical-align: top;\n",
       "    }\n",
       "\n",
       "    .dataframe thead th {\n",
       "        text-align: right;\n",
       "    }\n",
       "</style>\n",
       "<table border=\"1\" class=\"dataframe\">\n",
       "  <thead>\n",
       "    <tr style=\"text-align: right;\">\n",
       "      <th></th>\n",
       "      <th>sentence</th>\n",
       "      <th>label</th>\n",
       "    </tr>\n",
       "  </thead>\n",
       "  <tbody>\n",
       "    <tr>\n",
       "      <th>0</th>\n",
       "      <td>it 's a charming and often affecting journey .</td>\n",
       "      <td>1</td>\n",
       "    </tr>\n",
       "    <tr>\n",
       "      <th>1</th>\n",
       "      <td>unflinchingly bleak and desperate</td>\n",
       "      <td>0</td>\n",
       "    </tr>\n",
       "    <tr>\n",
       "      <th>2</th>\n",
       "      <td>allows us to hope that nolan is poised to emba...</td>\n",
       "      <td>1</td>\n",
       "    </tr>\n",
       "    <tr>\n",
       "      <th>3</th>\n",
       "      <td>the acting , costumes , music , cinematography...</td>\n",
       "      <td>1</td>\n",
       "    </tr>\n",
       "    <tr>\n",
       "      <th>4</th>\n",
       "      <td>it 's slow -- very , very slow .</td>\n",
       "      <td>0</td>\n",
       "    </tr>\n",
       "    <tr>\n",
       "      <th>...</th>\n",
       "      <td>...</td>\n",
       "      <td>...</td>\n",
       "    </tr>\n",
       "    <tr>\n",
       "      <th>867</th>\n",
       "      <td>has all the depth of a wading pool .</td>\n",
       "      <td>0</td>\n",
       "    </tr>\n",
       "    <tr>\n",
       "      <th>868</th>\n",
       "      <td>a movie with a real anarchic flair .</td>\n",
       "      <td>1</td>\n",
       "    </tr>\n",
       "    <tr>\n",
       "      <th>869</th>\n",
       "      <td>a subject like this should inspire reaction in...</td>\n",
       "      <td>0</td>\n",
       "    </tr>\n",
       "    <tr>\n",
       "      <th>870</th>\n",
       "      <td>... is an arthritic attempt at directing by ca...</td>\n",
       "      <td>0</td>\n",
       "    </tr>\n",
       "    <tr>\n",
       "      <th>871</th>\n",
       "      <td>looking aristocratic , luminous yet careworn i...</td>\n",
       "      <td>1</td>\n",
       "    </tr>\n",
       "  </tbody>\n",
       "</table>\n",
       "<p>872 rows × 2 columns</p>\n",
       "</div>"
      ],
      "text/plain": [
       "                                              sentence  label\n",
       "0      it 's a charming and often affecting journey .       1\n",
       "1                   unflinchingly bleak and desperate       0\n",
       "2    allows us to hope that nolan is poised to emba...      1\n",
       "3    the acting , costumes , music , cinematography...      1\n",
       "4                    it 's slow -- very , very slow .       0\n",
       "..                                                 ...    ...\n",
       "867              has all the depth of a wading pool .       0\n",
       "868              a movie with a real anarchic flair .       1\n",
       "869  a subject like this should inspire reaction in...      0\n",
       "870  ... is an arthritic attempt at directing by ca...      0\n",
       "871  looking aristocratic , luminous yet careworn i...      1\n",
       "\n",
       "[872 rows x 2 columns]"
      ]
     },
     "metadata": {},
     "output_type": "display_data"
    },
    {
     "data": {
      "text/html": [
       "<div>\n",
       "<style scoped>\n",
       "    .dataframe tbody tr th:only-of-type {\n",
       "        vertical-align: middle;\n",
       "    }\n",
       "\n",
       "    .dataframe tbody tr th {\n",
       "        vertical-align: top;\n",
       "    }\n",
       "\n",
       "    .dataframe thead th {\n",
       "        text-align: right;\n",
       "    }\n",
       "</style>\n",
       "<table border=\"1\" class=\"dataframe\">\n",
       "  <thead>\n",
       "    <tr style=\"text-align: right;\">\n",
       "      <th></th>\n",
       "      <th>sentence</th>\n",
       "    </tr>\n",
       "    <tr>\n",
       "      <th>index</th>\n",
       "      <th></th>\n",
       "    </tr>\n",
       "  </thead>\n",
       "  <tbody>\n",
       "    <tr>\n",
       "      <th>0</th>\n",
       "      <td>uneasy mishmash of styles and genres .</td>\n",
       "    </tr>\n",
       "    <tr>\n",
       "      <th>1</th>\n",
       "      <td>this film 's relationship to actual tension is...</td>\n",
       "    </tr>\n",
       "    <tr>\n",
       "      <th>2</th>\n",
       "      <td>by the end of no such thing the audience , lik...</td>\n",
       "    </tr>\n",
       "    <tr>\n",
       "      <th>3</th>\n",
       "      <td>director rob marshall went out gunning to make...</td>\n",
       "    </tr>\n",
       "    <tr>\n",
       "      <th>4</th>\n",
       "      <td>lathan and diggs have considerable personal ch...</td>\n",
       "    </tr>\n",
       "    <tr>\n",
       "      <th>...</th>\n",
       "      <td>...</td>\n",
       "    </tr>\n",
       "    <tr>\n",
       "      <th>1816</th>\n",
       "      <td>it risks seeming slow and pretentious , becaus...</td>\n",
       "    </tr>\n",
       "    <tr>\n",
       "      <th>1817</th>\n",
       "      <td>take care of my cat offers a refreshingly diff...</td>\n",
       "    </tr>\n",
       "    <tr>\n",
       "      <th>1818</th>\n",
       "      <td>davis has filled out his cast with appealing f...</td>\n",
       "    </tr>\n",
       "    <tr>\n",
       "      <th>1819</th>\n",
       "      <td>it represents better-than-average movie-making...</td>\n",
       "    </tr>\n",
       "    <tr>\n",
       "      <th>1820</th>\n",
       "      <td>dazzling and sugar-sweet , a blast of shallow ...</td>\n",
       "    </tr>\n",
       "  </tbody>\n",
       "</table>\n",
       "<p>1821 rows × 1 columns</p>\n",
       "</div>"
      ],
      "text/plain": [
       "                                                sentence\n",
       "index                                                   \n",
       "0                 uneasy mishmash of styles and genres .\n",
       "1      this film 's relationship to actual tension is...\n",
       "2      by the end of no such thing the audience , lik...\n",
       "3      director rob marshall went out gunning to make...\n",
       "4      lathan and diggs have considerable personal ch...\n",
       "...                                                  ...\n",
       "1816   it risks seeming slow and pretentious , becaus...\n",
       "1817   take care of my cat offers a refreshingly diff...\n",
       "1818   davis has filled out his cast with appealing f...\n",
       "1819   it represents better-than-average movie-making...\n",
       "1820   dazzling and sugar-sweet , a blast of shallow ...\n",
       "\n",
       "[1821 rows x 1 columns]"
      ]
     },
     "metadata": {},
     "output_type": "display_data"
    }
   ],
   "source": [
    "train_file = 'train.tsv'\n",
    "test_file = 'dev.tsv'\n",
    "eval_file = 'test.tsv'\n",
    "\n",
    "# create df from tsv file\n",
    "train_df = pd.read_csv(train_file, sep='\\t')\n",
    "test_df = pd.read_csv(test_file, sep='\\t')\n",
    "eval_df = pd.read_csv(eval_file, sep='\\t',index_col=0)\n",
    "\n",
    "# display df\n",
    "display(train_df)\n",
    "display(test_df)\n",
    "display(eval_df)"
   ]
  },
  {
   "cell_type": "markdown",
   "id": "d951adfb-6a54-4654-a9a1-c9d2e4c8bfda",
   "metadata": {},
   "source": [
    "# 1.2 Data Analysis\n",
    "\n",
    "Next we will analyze our data to gain insights into the distribution of positive and negative reviews within and between datasets. We calculate some measurements such as number of positive and negative reviews in each dataset, and average sentence length for positive and negative reviews for each dataset. "
   ]
  },
  {
   "cell_type": "code",
   "execution_count": 3,
   "id": "ebdaa80b-0fe4-4638-91f1-d4bc6b1d294c",
   "metadata": {
    "tags": []
   },
   "outputs": [
    {
     "name": "stdout",
     "output_type": "stream",
     "text": [
      "label\n",
      "1    37569\n",
      "0    29780\n",
      "Name: count, dtype: int64\n",
      "label\n",
      "1    444\n",
      "0    428\n",
      "Name: count, dtype: int64\n"
     ]
    }
   ],
   "source": [
    "# get count of sentiment distribution\n",
    "train_values = train_df['label'].value_counts()\n",
    "test_values = test_df['label'].value_counts()\n",
    "print(train_values)\n",
    "print(test_values)"
   ]
  },
  {
   "cell_type": "code",
   "execution_count": 4,
   "id": "bf4f325c-3279-4688-a24c-8d605adb556b",
   "metadata": {
    "tags": []
   },
   "outputs": [
    {
     "data": {
      "image/png": "[encoded data removed]",
      "text/plain": [
       "<Figure size 1600x600 with 2 Axes>"
      ]
     },
     "metadata": {},
     "output_type": "display_data"
    }
   ],
   "source": [
    "fig, axs = plt.subplots(1, 2, figsize=(16, 6))\n",
    "\n",
    "# chart for training data\n",
    "axs[0].pie(train_values, labels=train_values.index, autopct='%1.1f%%', startangle=140)\n",
    "axs[0].set_title('Train Data Distribution')\n",
    "\n",
    "# chart for testing data\n",
    "axs[1].pie(test_values, labels=test_values.index, autopct='%1.1f%%', startangle=140)\n",
    "axs[1].set_title('Test Data Distribution')\n",
    "\n",
    "axs[0].axis('equal')\n",
    "axs[1].axis('equal')\n",
    "\n",
    "plt.show()"
   ]
  },
  {
   "cell_type": "code",
   "execution_count": 5,
   "id": "5c2b3734-6423-4d5b-9565-9acfdd73dce2",
   "metadata": {
    "tags": []
   },
   "outputs": [
    {
     "name": "stdout",
     "output_type": "stream",
     "text": [
      "Distribution of labels in Training Data:\n",
      "label\n",
      "1    0.557826\n",
      "0    0.442174\n",
      "Name: proportion, dtype: float64\n",
      "\n",
      "Distribution of labels in Testing Data:\n",
      "label\n",
      "1    0.509174\n",
      "0    0.490826\n",
      "Name: proportion, dtype: float64\n"
     ]
    }
   ],
   "source": [
    "# calculating distribution of 0 and 1 for each data set\n",
    "train_classes = train_df['label'].value_counts(normalize=True)\n",
    "test_classes = test_df['label'].value_counts(normalize=True)\n",
    "\n",
    "print(\"Distribution of labels in Training Data:\")\n",
    "print(train_classes)\n",
    "print(\"\\nDistribution of labels in Testing Data:\")\n",
    "print(test_classes)"
   ]
  },
  {
   "cell_type": "code",
   "execution_count": 6,
   "id": "5384dc3f-5a26-4125-a5ab-f87d39c95e4b",
   "metadata": {
    "tags": []
   },
   "outputs": [],
   "source": [
    "# getting sentence length for positive and negative reviews for each dataset\n",
    "train_senLength_0 = train_df[train_df['label'] == 0]['sentence'].apply(lambda x: len(x.split()))\n",
    "train_senLength_1 = train_df[train_df['label'] == 1]['sentence'].apply(lambda x: len(x.split()))\n",
    "\n",
    "test_senLength_0 = test_df[test_df['label'] == 0]['sentence'].apply(lambda x: len(x.split()))\n",
    "test_senLength_1 = test_df[test_df['label'] == 1]['sentence'].apply(lambda x: len(x.split()))"
   ]
  },
  {
   "cell_type": "code",
   "execution_count": 7,
   "id": "278e9542-9a0b-4347-bc67-b39195224581",
   "metadata": {
    "tags": []
   },
   "outputs": [],
   "source": [
    "# function to plot histogram and box plot for sentence length data\n",
    "def plot_histogram_boxplot(data_0, data_1, label_0, label_1, hist_title, box_title):\n",
    "    hist_0, bins_0 = np.histogram(data_0, bins=50)\n",
    "    hist_1, bins_1 = np.histogram(data_1, bins=50)\n",
    "\n",
    "    bar_width = 0.35\n",
    "\n",
    "    x_0 = bins_0[:-1]\n",
    "    x_1 = bins_1[:-1] + bar_width  \n",
    "\n",
    "    fig, (ax1, ax2) = plt.subplots(1, 2, figsize=(12, 6))\n",
    "\n",
    "    ax1.bar(x_0, hist_0, width=bar_width, color='blue', alpha=0.5, label=label_0)\n",
    "    ax1.bar(x_1, hist_1, width=bar_width, color='red', alpha=0.5, label=label_1)\n",
    "\n",
    "    ax1.set_xlabel('Sentence Length')\n",
    "    ax1.set_ylabel('Frequency')\n",
    "    ax1.set_title(hist_title)\n",
    "    ax1.legend()\n",
    "\n",
    "    ax2.boxplot([data_0, data_1], labels=[label_0, label_1])\n",
    "    ax2.set_yticks(np.arange(0, max(max(data_0), max(data_1)) + 1, 5))\n",
    "\n",
    "    ax2.set_xlabel('')\n",
    "    ax2.set_ylabel('Sentence Length')\n",
    "    ax2.set_title(box_title)\n",
    "\n",
    "    plt.tight_layout()\n",
    "\n",
    "    plt.show()"
   ]
  },
  {
   "cell_type": "code",
   "execution_count": 8,
   "id": "a398d9f7-63eb-4e80-9fd6-7f20c0e9608c",
   "metadata": {
    "tags": []
   },
   "outputs": [
    {
     "data": {
      "image/png": "[encoded data removed]",
      "text/plain": [
       "<Figure size 1200x600 with 2 Axes>"
      ]
     },
     "metadata": {},
     "output_type": "display_data"
    },
    {
     "data": {
      "image/png": "[encoded data removed]",
      "text/plain": [
       "<Figure size 1200x600 with 2 Axes>"
      ]
     },
     "metadata": {},
     "output_type": "display_data"
    }
   ],
   "source": [
    "plot_histogram_boxplot(train_senLength_0, train_senLength_1, '0', '1', 'Training Data Sentence Length Frequency by Sentiment', 'Training Data  Sentence Length by Sentiment')\n",
    "plot_histogram_boxplot(test_senLength_0, test_senLength_1, '0', '1', 'Testing Data Sentence Length Frequency by Sentiment', 'Testing Data Sentence Length Frequency by Sentiment')"
   ]
  },
  {
   "cell_type": "markdown",
   "id": "50a3707b-3f2a-4283-b60a-a5f947f6325c",
   "metadata": {
    "tags": []
   },
   "source": [
    "# 1.3 Insights\n",
    "\n",
    "Upon analysis of the distribution of positive and negative reviews in the SST-2 data sets, we find a couple notable differences between the positive and negative reviews within each and across both dataset(s). Firstly, the training dataset contains approximately 56% positive reviews compared to negative, whereas the testing dataset has a more balanced 50/50 distribution. This discrepancy may raise concern due to the potential for biased model training and evaluation. Models trained with this dataset may learn to better recognize positive statements and therefore may struggle to classify a more evenly distributed dataset. \n",
    "\n",
    "The second imbalance is seen in the distribution of sentence lengths for positive and negative reviews between the datasets. In the training dataset, sentences are overwhemingly short in length. Here 75% of the sentences are under 15 words long, compared to the testing dataset which has a more even distribution. A model trained on this data may struggle to classify longer, more complex sentences, such as those in the testing dataset. This can have a large impact on the choice of vectorizer as one that is well suited for data with minimal features may perform very well on the training dataset but miss important distinctions that appear in data with more numerous features. \n",
    "\n",
    "While the distribution of sentence lengths between datasets is quite different, the distribution of sentence length for positive and negative reviews within each dataset is relatively consistent. This is beneficial as it means that the model will be able to draw more equal comparisons between positive and negative reviews with regards to the number of words used in each review. "
   ]
  },
  {
   "cell_type": "markdown",
   "id": "014118fc-5b3c-465f-ae15-f74d28be947a",
   "metadata": {},
   "source": [
    "# 2.1 Text Vectorization\n",
    "\n",
    "In choosing a vectorization method we can first assess our metrics calculated earlier as well as perform a visual inspection of the data. We saw earlier that there are 67,349 rows of data in our training dataset. While this may be seem like a large dataset, it is not very large relatively and far from being considered 'big data'. While this task is sentiment analysis, as we saw earlier the sentence lengths are quite short. Therefore, a vectorization method such as n-gram, while useful for these types of tasks, will likely not make a significant difference in the performance of our model while taking far more computing power. \n",
    "\n",
    "Two common vectorizers are Bag-of-Words and Term frequency–inverse document frequency (TF-IDF). Bag-of-words counts how often a word appears in the corpus of text, whereas TF-IDF is a score that measures how important a word is to a text corpus. Both methods measure the frequency of terms in a document, but bag-of-words simply counts the occurrences of each word in a document, whereas TF-IDF also takes into account the frequency across multiple documents and penalizes more common words. Since we are performing sentiment analysis on two relatively small and simple datasets, both of these methods should be sufficient for an ablation study to determine which vectorizer is most suitable. "
   ]
  },
  {
   "cell_type": "markdown",
   "id": "6755e597-d1d6-4f04-9308-c362e525408c",
   "metadata": {},
   "source": [
    "# 2.2 Ablation Study\n",
    "\n",
    "Now that we have determined which vectorization methods we are going to test, we can run an ablation study to determine which has the highest accuracy and should be utilized for our machine learning model selection. We can further diversify our options by testing these methods with and without the removal of stopwords from our data. While stopwords are commonly removed due to their relative insignificance to sentiment and need for additional processing power, they can also provide nuance to a sentence that can change the meaning. Since our dataset is not very large, it's worthwhile to run all four options since it will not take significantly more time."
   ]
  },
  {
   "cell_type": "code",
   "execution_count": 9,
   "id": "ae75795f-0b57-4418-9766-36a7b953ea3a",
   "metadata": {
    "tags": []
   },
   "outputs": [
    {
     "name": "stdout",
     "output_type": "stream",
     "text": [
      "\n",
      "TF-IDF\n",
      "\n",
      "- Number of features: 13774\n",
      "- Training accuracy:  90.87%\n",
      "- Test accuracy:      79.82%\n",
      "\n",
      "TF-IDF w/o stop words\n",
      "\n",
      "- Number of features: 13491\n",
      "- Training accuracy:  90.02%\n",
      "- Test accuracy:      77.41%\n",
      "\n",
      "Count Vectorizer/BoW\n",
      "\n",
      "- Number of features: 13774\n",
      "- Training accuracy:  89.67%\n",
      "- Test accuracy:      80.39%\n",
      "\n",
      "Count Vectorizer/BoW w/o stop words\n",
      "\n",
      "- Number of features: 13491\n",
      "- Training accuracy:  88.98%\n",
      "- Test accuracy:      78.10%\n"
     ]
    }
   ],
   "source": [
    "# ablation study for two vectorizers with and without stopwords\n",
    "vectorizers = {\n",
    "    'TF-IDF': TfidfVectorizer(),\n",
    "    'TF-IDF w/o stop words': TfidfVectorizer(stop_words=\"english\"),\n",
    "    'Count Vectorizer/BoW': CountVectorizer(),\n",
    "    'Count Vectorizer/BoW w/o stop words': CountVectorizer(stop_words=\"english\")\n",
    "}\n",
    "\n",
    "for description, vectorizer in vectorizers.items():\n",
    "    print(f'\\n{description}\\n')\n",
    "    \n",
    "    # fit vectorizer on training data\n",
    "    train_V = vectorizer.fit_transform(train_df['sentence'])  \n",
    "    \n",
    "    # transform training and test data\n",
    "    train_V = vectorizer.transform(train_df['sentence'])  \n",
    "    test_V = vectorizer.transform(test_df['sentence'])  \n",
    "    train_y = train_df['label']\n",
    "    test_y = test_df['label']\n",
    "    \n",
    "    # set classifier to test vectorization\n",
    "    model = MultinomialNB(alpha=0.5).fit(train_V, train_df['label'])  \n",
    "\n",
    "    print(\"- Number of features:\", train_V.shape[1])  \n",
    "    print(\"- Training accuracy:  {:.2%}\".format(model.score(train_V, train_y)))\n",
    "    print(\"- Test accuracy:      {:.2%}\".format(model.score(test_V, test_y)))"
   ]
  },
  {
   "cell_type": "markdown",
   "id": "3c539de4-d84c-4831-9b41-cab09fed2f9f",
   "metadata": {},
   "source": [
    "# 2.3 Choosing a Vectorization Model\n",
    "\n",
    "The results of our ablation study show that the Bag-of-Words with stopwords vectorizer performed the best on the test data. This method, however, was not the highest performing model on the training data. While this was the case, we are more concerned with performance on the test data because this is where the machine makes its own decisions on classifications. It's possible that the model performed higher on the training data due to overfitting, which can cause it to make inaccurate generalizations with test data because it has learned to capture patterns that are specific to the training dataset. Therefore, we should continue with the model that performs best on the testing data because that shows the model is making generalizations that can be more widely applied to new datasets. We will create variables to store our vectorized data that we will then use to assess and train our machine learning models."
   ]
  },
  {
   "cell_type": "code",
   "execution_count": 10,
   "id": "b08ffc52-67c9-4845-bec6-341b8ef03e77",
   "metadata": {
    "tags": []
   },
   "outputs": [],
   "source": [
    "# select vectorizer with best performance\n",
    "CountVectorizer_BoW = vectorizers['Count Vectorizer/BoW']\n",
    "\n",
    "# transform data to use the selected vectorizer\n",
    "final_train_X = CountVectorizer_BoW.transform(train_df['sentence'])  \n",
    "final_test_X = CountVectorizer_BoW.transform(test_df['sentence'])  "
   ]
  },
  {
   "cell_type": "markdown",
   "id": "c37525f2-22d3-4874-a3a1-8577d54646b3",
   "metadata": {},
   "source": [
    "# 3.1 Choosing a Machine Learning Model\n",
    "\n",
    "Now that we have determined the best performing text vectorizer, we can run our data through a few machine learning models to determine which will produce the best results. Two models commonly used for sentiment analysis are Logistic Regression and Naive-Bayes. Logistic Regression estimates the probability of an event\n",
    "occurring based on a given dataset of independent variables. Naive-Bayes calculates the likelihood of a particular class by assuming that all features are independent of each other. We can run both of these models on our vectorized data to see which performs better on the test data. \n",
    "\n",
    "For the Logistic Regression, we will specify the 'liblinear' solver since the default solver 'lbfgs' does not allow us to run the number of iterations needed for this data. For Naive-Bayes we will utilize the Multinomial model rather than Gaussian as it is more suitable for classification with discrete features."
   ]
  },
  {
   "cell_type": "code",
   "execution_count": 11,
   "id": "c90eaca9-db72-496e-8135-c55a6168b3c2",
   "metadata": {
    "tags": []
   },
   "outputs": [],
   "source": [
    "# function to run a specified ML model on chosen data\n",
    "def run_ML_model(model, X_train, y_train, X_test, y_test):\n",
    "    # initialize model\n",
    "    trained_model = model.fit(X_train, y_train)\n",
    "    \n",
    "    # make predictions on test data\n",
    "    y_test_pred = trained_model.predict(X_test)\n",
    "    \n",
    "    # create classification report\n",
    "    report_dict = classification_report(y_test, y_test_pred, output_dict=True)\n",
    "    \n",
    "    # convert report to df\n",
    "    report_df = pd.DataFrame(report_dict).transpose()\n",
    "    \n",
    "    return trained_model, report_df"
   ]
  },
  {
   "cell_type": "code",
   "execution_count": 12,
   "id": "8e226fba-8db7-45e6-a43d-bf0771ed2dfd",
   "metadata": {
    "tags": []
   },
   "outputs": [
    {
     "data": {
      "text/plain": [
       "'Logistic Regression'"
      ]
     },
     "metadata": {},
     "output_type": "display_data"
    },
    {
     "data": {
      "text/html": [
       "<div>\n",
       "<style scoped>\n",
       "    .dataframe tbody tr th:only-of-type {\n",
       "        vertical-align: middle;\n",
       "    }\n",
       "\n",
       "    .dataframe tbody tr th {\n",
       "        vertical-align: top;\n",
       "    }\n",
       "\n",
       "    .dataframe thead th {\n",
       "        text-align: right;\n",
       "    }\n",
       "</style>\n",
       "<table border=\"1\" class=\"dataframe\">\n",
       "  <thead>\n",
       "    <tr style=\"text-align: right;\">\n",
       "      <th></th>\n",
       "      <th>precision</th>\n",
       "      <th>recall</th>\n",
       "      <th>f1-score</th>\n",
       "      <th>support</th>\n",
       "    </tr>\n",
       "  </thead>\n",
       "  <tbody>\n",
       "    <tr>\n",
       "      <th>0</th>\n",
       "      <td>0.844388</td>\n",
       "      <td>0.773364</td>\n",
       "      <td>0.807317</td>\n",
       "      <td>428.000000</td>\n",
       "    </tr>\n",
       "    <tr>\n",
       "      <th>1</th>\n",
       "      <td>0.797917</td>\n",
       "      <td>0.862613</td>\n",
       "      <td>0.829004</td>\n",
       "      <td>444.000000</td>\n",
       "    </tr>\n",
       "    <tr>\n",
       "      <th>accuracy</th>\n",
       "      <td>0.818807</td>\n",
       "      <td>0.818807</td>\n",
       "      <td>0.818807</td>\n",
       "      <td>0.818807</td>\n",
       "    </tr>\n",
       "    <tr>\n",
       "      <th>macro avg</th>\n",
       "      <td>0.821152</td>\n",
       "      <td>0.817989</td>\n",
       "      <td>0.818161</td>\n",
       "      <td>872.000000</td>\n",
       "    </tr>\n",
       "    <tr>\n",
       "      <th>weighted avg</th>\n",
       "      <td>0.820726</td>\n",
       "      <td>0.818807</td>\n",
       "      <td>0.818360</td>\n",
       "      <td>872.000000</td>\n",
       "    </tr>\n",
       "  </tbody>\n",
       "</table>\n",
       "</div>"
      ],
      "text/plain": [
       "              precision    recall  f1-score     support\n",
       "0              0.844388  0.773364  0.807317  428.000000\n",
       "1              0.797917  0.862613  0.829004  444.000000\n",
       "accuracy       0.818807  0.818807  0.818807    0.818807\n",
       "macro avg      0.821152  0.817989  0.818161  872.000000\n",
       "weighted avg   0.820726  0.818807  0.818360  872.000000"
      ]
     },
     "metadata": {},
     "output_type": "display_data"
    },
    {
     "data": {
      "text/plain": [
       "'Multinomial Naive-Bayes'"
      ]
     },
     "metadata": {},
     "output_type": "display_data"
    },
    {
     "data": {
      "text/html": [
       "<div>\n",
       "<style scoped>\n",
       "    .dataframe tbody tr th:only-of-type {\n",
       "        vertical-align: middle;\n",
       "    }\n",
       "\n",
       "    .dataframe tbody tr th {\n",
       "        vertical-align: top;\n",
       "    }\n",
       "\n",
       "    .dataframe thead th {\n",
       "        text-align: right;\n",
       "    }\n",
       "</style>\n",
       "<table border=\"1\" class=\"dataframe\">\n",
       "  <thead>\n",
       "    <tr style=\"text-align: right;\">\n",
       "      <th></th>\n",
       "      <th>precision</th>\n",
       "      <th>recall</th>\n",
       "      <th>f1-score</th>\n",
       "      <th>support</th>\n",
       "    </tr>\n",
       "  </thead>\n",
       "  <tbody>\n",
       "    <tr>\n",
       "      <th>0</th>\n",
       "      <td>0.827848</td>\n",
       "      <td>0.764019</td>\n",
       "      <td>0.794654</td>\n",
       "      <td>428.000000</td>\n",
       "    </tr>\n",
       "    <tr>\n",
       "      <th>1</th>\n",
       "      <td>0.788260</td>\n",
       "      <td>0.846847</td>\n",
       "      <td>0.816504</td>\n",
       "      <td>444.000000</td>\n",
       "    </tr>\n",
       "    <tr>\n",
       "      <th>accuracy</th>\n",
       "      <td>0.806193</td>\n",
       "      <td>0.806193</td>\n",
       "      <td>0.806193</td>\n",
       "      <td>0.806193</td>\n",
       "    </tr>\n",
       "    <tr>\n",
       "      <th>macro avg</th>\n",
       "      <td>0.808054</td>\n",
       "      <td>0.805433</td>\n",
       "      <td>0.805579</td>\n",
       "      <td>872.000000</td>\n",
       "    </tr>\n",
       "    <tr>\n",
       "      <th>weighted avg</th>\n",
       "      <td>0.807691</td>\n",
       "      <td>0.806193</td>\n",
       "      <td>0.805779</td>\n",
       "      <td>872.000000</td>\n",
       "    </tr>\n",
       "  </tbody>\n",
       "</table>\n",
       "</div>"
      ],
      "text/plain": [
       "              precision    recall  f1-score     support\n",
       "0              0.827848  0.764019  0.794654  428.000000\n",
       "1              0.788260  0.846847  0.816504  444.000000\n",
       "accuracy       0.806193  0.806193  0.806193    0.806193\n",
       "macro avg      0.808054  0.805433  0.805579  872.000000\n",
       "weighted avg   0.807691  0.806193  0.805779  872.000000"
      ]
     },
     "metadata": {},
     "output_type": "display_data"
    }
   ],
   "source": [
    "# calling function on vectorized data for two ML models\n",
    "bow_log_model, bow_log_report = run_ML_model(LogisticRegression(solver='liblinear'), final_train_X, train_y, final_test_X, test_y)\n",
    "bow_NB_model, bow_NB_report = run_ML_model(MultinomialNB(), final_train_X, train_y, final_test_X, test_y)\n",
    "\n",
    "display('Logistic Regression', bow_log_report)\n",
    "display('Multinomial Naive-Bayes', bow_NB_report)"
   ]
  },
  {
   "cell_type": "code",
   "execution_count": 13,
   "id": "07fdaf3e-9f89-41f0-ab46-4891bfccbc30",
   "metadata": {
    "tags": []
   },
   "outputs": [
    {
     "data": {
      "image/png": "[encoded data removed]",
      "text/plain": [
       "<Figure size 1000x600 with 1 Axes>"
      ]
     },
     "metadata": {},
     "output_type": "display_data"
    }
   ],
   "source": [
    "weighted_avg_log_values = bow_log_report.loc['weighted avg'][:3].values\n",
    "weighted_avg_NB_values = bow_NB_report.loc['weighted avg'][:3].values\n",
    "accuracy_log = bow_log_report.loc['accuracy', 'precision']\n",
    "accuracy_NB = bow_NB_report.loc['accuracy', 'precision']\n",
    "\n",
    "bar_width = 0.35\n",
    "\n",
    "index = range(len(weighted_avg_log_values))\n",
    "\n",
    "plt.figure(figsize=(10, 6))\n",
    "\n",
    "plt.bar(index, weighted_avg_log_values, bar_width, color='blue', alpha=0.5, label='Logistic Regression')\n",
    "plt.bar([i + bar_width for i in index], weighted_avg_NB_values, bar_width, color='red', alpha=0.5, label='Multinomial Naive-Bayes')\n",
    "\n",
    "plt.bar(len(index), accuracy_log, bar_width, color='blue', alpha=0.5)\n",
    "plt.bar(len(index) + bar_width, accuracy_NB, bar_width, color='red', alpha=0.5)\n",
    "\n",
    "plt.xlabel('Metric')\n",
    "plt.ylabel('Value')\n",
    "plt.title('ML Model Performance Comparison')\n",
    "plt.xticks([i + 0.5 * bar_width for i in index] + [len(index) + 0.5 * bar_width], \n",
    "           list(bow_log_report.columns)[:3] + ['accuracy'])\n",
    "plt.ylim(0.4, 1) \n",
    "plt.legend()\n",
    "\n",
    "# Show plot\n",
    "plt.show()"
   ]
  },
  {
   "cell_type": "markdown",
   "id": "ba7f61ec-f083-4e61-ad81-8ee736ac50d6",
   "metadata": {},
   "source": [
    "# 3.2 Model Performance Analysis\n",
    "\n",
    "The results of the performance of our two machine learning models are fairly similar. We can assess the perfomance of a model on 4 parameters: Accuracy, Precision, Recall, and F-1 Score. Accuracy refers to the number of correctly predicted data points, precision to the number of true positives divided by the total number of positive predictions, recall to what proportion of actual positives was identified correctly, and F-1 score combines precision and recall to compute how many times a model made a correct prediction across the entire dataset. The Logistic Regression model performed about 2% better on precision, recall, and F-1 score. It also performed about 1% better on accuracy. While these are not large differences, it is still enough to conclude that we should continue with the logistic regression model for this dataset. "
   ]
  },
  {
   "cell_type": "markdown",
   "id": "51ac290b-48ce-4bbb-82b7-4a990dccd33f",
   "metadata": {
    "tags": []
   },
   "source": [
    "# 4.1 Model Tuning - Hyper-parameter evaluation\n",
    "\n",
    "Now that we have determined which machine learning model we will use, we can fine-tune the model by evaluating which hyper-parameters produce the highest accuracy. Logistic Regression has a number of hyper-parameters, with the three most commonly utilized being C, penalty, and solver. C refers to regularization strength, penalty to the type of regularization to apply, and solver to the optimization algorithm used to fit the regression model. \n",
    "\n",
    "To assess these hyper-parameters, we will run a 5-fold grid search on our training data which will test out numerous combinations of our specified hyper-parameters and return those that produced the greatest accuracy. Penalty and solver only have a handful of options, whereas C can be any positive float. For our grid search we will test a few values in a logarithmic scale starting from .001. For penalty we will use l1 and l2 as these are the options that are compatible with our chosen solvers. Lastly we will test the default lbfgs solver along with liblinear which is a good option for small datasets, and sag which is usually used for larger datasets. "
   ]
  },
  {
   "cell_type": "code",
   "execution_count": 14,
   "id": "4d5bb662-02d4-4661-81e8-912efcec9455",
   "metadata": {
    "tags": []
   },
   "outputs": [
    {
     "name": "stdout",
     "output_type": "stream",
     "text": [
      "Logistic Regression hyper-parameters\n",
      "\n",
      "... C                        : 1.0\n",
      "... class_weight             : None\n",
      "... dual                     : False\n",
      "... fit_intercept            : True\n",
      "... intercept_scaling        : 1\n",
      "... l1_ratio                 : None\n",
      "... max_iter                 : 100\n",
      "... multi_class              : auto\n",
      "... n_jobs                   : None\n",
      "... penalty                  : l2\n",
      "... random_state             : None\n",
      "... solver                   : lbfgs\n",
      "... tol                      : 0.0001\n",
      "... verbose                  : 0\n",
      "... warm_start               : False\n",
      "\n"
     ]
    }
   ],
   "source": [
    "# choosing classifier\n",
    "classifier = LogisticRegression()\n",
    "\n",
    "# view hyperparameters\n",
    "print('Logistic Regression hyper-parameters\\n')\n",
    "params = classifier.get_params()\n",
    "for param, default in params.items():\n",
    "    print(f'... {param:25s}: {default}')\n",
    "print()"
   ]
  },
  {
   "cell_type": "code",
   "execution_count": 15,
   "id": "5a820491-756e-4543-89d4-103428c903a0",
   "metadata": {
    "tags": []
   },
   "outputs": [
    {
     "name": "stderr",
     "output_type": "stream",
     "text": [
      "/Users/raylesser/anaconda3/lib/python3.11/site-packages/sklearn/linear_model/_logistic.py:460: ConvergenceWarning: lbfgs failed to converge (status=1):\n",
      "STOP: TOTAL NO. of ITERATIONS REACHED LIMIT.\n",
      "\n",
      "Increase the number of iterations (max_iter) or scale the data as shown in:\n",
      "    https://scikit-learn.org/stable/modules/preprocessing.html\n",
      "Please also refer to the documentation for alternative solver options:\n",
      "    https://scikit-learn.org/stable/modules/linear_model.html#logistic-regression\n",
      "  n_iter_i = _check_optimize_result(\n",
      "/Users/raylesser/anaconda3/lib/python3.11/site-packages/sklearn/linear_model/_logistic.py:460: ConvergenceWarning: lbfgs failed to converge (status=1):\n",
      "STOP: TOTAL NO. of ITERATIONS REACHED LIMIT.\n",
      "\n",
      "Increase the number of iterations (max_iter) or scale the data as shown in:\n",
      "    https://scikit-learn.org/stable/modules/preprocessing.html\n",
      "Please also refer to the documentation for alternative solver options:\n",
      "    https://scikit-learn.org/stable/modules/linear_model.html#logistic-regression\n",
      "  n_iter_i = _check_optimize_result(\n",
      "/Users/raylesser/anaconda3/lib/python3.11/site-packages/sklearn/linear_model/_logistic.py:460: ConvergenceWarning: lbfgs failed to converge (status=1):\n",
      "STOP: TOTAL NO. of ITERATIONS REACHED LIMIT.\n",
      "\n",
      "Increase the number of iterations (max_iter) or scale the data as shown in:\n",
      "    https://scikit-learn.org/stable/modules/preprocessing.html\n",
      "Please also refer to the documentation for alternative solver options:\n",
      "    https://scikit-learn.org/stable/modules/linear_model.html#logistic-regression\n",
      "  n_iter_i = _check_optimize_result(\n",
      "/Users/raylesser/anaconda3/lib/python3.11/site-packages/sklearn/linear_model/_logistic.py:460: ConvergenceWarning: lbfgs failed to converge (status=1):\n",
      "STOP: TOTAL NO. of ITERATIONS REACHED LIMIT.\n",
      "\n",
      "Increase the number of iterations (max_iter) or scale the data as shown in:\n",
      "    https://scikit-learn.org/stable/modules/preprocessing.html\n",
      "Please also refer to the documentation for alternative solver options:\n",
      "    https://scikit-learn.org/stable/modules/linear_model.html#logistic-regression\n",
      "  n_iter_i = _check_optimize_result(\n",
      "/Users/raylesser/anaconda3/lib/python3.11/site-packages/sklearn/linear_model/_logistic.py:460: ConvergenceWarning: lbfgs failed to converge (status=1):\n",
      "STOP: TOTAL NO. of ITERATIONS REACHED LIMIT.\n",
      "\n",
      "Increase the number of iterations (max_iter) or scale the data as shown in:\n",
      "    https://scikit-learn.org/stable/modules/preprocessing.html\n",
      "Please also refer to the documentation for alternative solver options:\n",
      "    https://scikit-learn.org/stable/modules/linear_model.html#logistic-regression\n",
      "  n_iter_i = _check_optimize_result(\n",
      "/Users/raylesser/anaconda3/lib/python3.11/site-packages/sklearn/linear_model/_sag.py:350: ConvergenceWarning: The max_iter was reached which means the coef_ did not converge\n",
      "  warnings.warn(\n",
      "/Users/raylesser/anaconda3/lib/python3.11/site-packages/sklearn/linear_model/_sag.py:350: ConvergenceWarning: The max_iter was reached which means the coef_ did not converge\n",
      "  warnings.warn(\n",
      "/Users/raylesser/anaconda3/lib/python3.11/site-packages/sklearn/linear_model/_sag.py:350: ConvergenceWarning: The max_iter was reached which means the coef_ did not converge\n",
      "  warnings.warn(\n",
      "/Users/raylesser/anaconda3/lib/python3.11/site-packages/sklearn/linear_model/_sag.py:350: ConvergenceWarning: The max_iter was reached which means the coef_ did not converge\n",
      "  warnings.warn(\n",
      "/Users/raylesser/anaconda3/lib/python3.11/site-packages/sklearn/linear_model/_sag.py:350: ConvergenceWarning: The max_iter was reached which means the coef_ did not converge\n",
      "  warnings.warn(\n",
      "/Users/raylesser/anaconda3/lib/python3.11/site-packages/sklearn/linear_model/_logistic.py:460: ConvergenceWarning: lbfgs failed to converge (status=1):\n",
      "STOP: TOTAL NO. of ITERATIONS REACHED LIMIT.\n",
      "\n",
      "Increase the number of iterations (max_iter) or scale the data as shown in:\n",
      "    https://scikit-learn.org/stable/modules/preprocessing.html\n",
      "Please also refer to the documentation for alternative solver options:\n",
      "    https://scikit-learn.org/stable/modules/linear_model.html#logistic-regression\n",
      "  n_iter_i = _check_optimize_result(\n",
      "/Users/raylesser/anaconda3/lib/python3.11/site-packages/sklearn/linear_model/_logistic.py:460: ConvergenceWarning: lbfgs failed to converge (status=1):\n",
      "STOP: TOTAL NO. of ITERATIONS REACHED LIMIT.\n",
      "\n",
      "Increase the number of iterations (max_iter) or scale the data as shown in:\n",
      "    https://scikit-learn.org/stable/modules/preprocessing.html\n",
      "Please also refer to the documentation for alternative solver options:\n",
      "    https://scikit-learn.org/stable/modules/linear_model.html#logistic-regression\n",
      "  n_iter_i = _check_optimize_result(\n",
      "/Users/raylesser/anaconda3/lib/python3.11/site-packages/sklearn/linear_model/_logistic.py:460: ConvergenceWarning: lbfgs failed to converge (status=1):\n",
      "STOP: TOTAL NO. of ITERATIONS REACHED LIMIT.\n",
      "\n",
      "Increase the number of iterations (max_iter) or scale the data as shown in:\n",
      "    https://scikit-learn.org/stable/modules/preprocessing.html\n",
      "Please also refer to the documentation for alternative solver options:\n",
      "    https://scikit-learn.org/stable/modules/linear_model.html#logistic-regression\n",
      "  n_iter_i = _check_optimize_result(\n",
      "/Users/raylesser/anaconda3/lib/python3.11/site-packages/sklearn/linear_model/_logistic.py:460: ConvergenceWarning: lbfgs failed to converge (status=1):\n",
      "STOP: TOTAL NO. of ITERATIONS REACHED LIMIT.\n",
      "\n",
      "Increase the number of iterations (max_iter) or scale the data as shown in:\n",
      "    https://scikit-learn.org/stable/modules/preprocessing.html\n",
      "Please also refer to the documentation for alternative solver options:\n",
      "    https://scikit-learn.org/stable/modules/linear_model.html#logistic-regression\n",
      "  n_iter_i = _check_optimize_result(\n",
      "/Users/raylesser/anaconda3/lib/python3.11/site-packages/sklearn/linear_model/_logistic.py:460: ConvergenceWarning: lbfgs failed to converge (status=1):\n",
      "STOP: TOTAL NO. of ITERATIONS REACHED LIMIT.\n",
      "\n",
      "Increase the number of iterations (max_iter) or scale the data as shown in:\n",
      "    https://scikit-learn.org/stable/modules/preprocessing.html\n",
      "Please also refer to the documentation for alternative solver options:\n",
      "    https://scikit-learn.org/stable/modules/linear_model.html#logistic-regression\n",
      "  n_iter_i = _check_optimize_result(\n",
      "/Users/raylesser/anaconda3/lib/python3.11/site-packages/sklearn/linear_model/_sag.py:350: ConvergenceWarning: The max_iter was reached which means the coef_ did not converge\n",
      "  warnings.warn(\n",
      "/Users/raylesser/anaconda3/lib/python3.11/site-packages/sklearn/linear_model/_sag.py:350: ConvergenceWarning: The max_iter was reached which means the coef_ did not converge\n",
      "  warnings.warn(\n",
      "/Users/raylesser/anaconda3/lib/python3.11/site-packages/sklearn/linear_model/_sag.py:350: ConvergenceWarning: The max_iter was reached which means the coef_ did not converge\n",
      "  warnings.warn(\n",
      "/Users/raylesser/anaconda3/lib/python3.11/site-packages/sklearn/linear_model/_sag.py:350: ConvergenceWarning: The max_iter was reached which means the coef_ did not converge\n",
      "  warnings.warn(\n",
      "/Users/raylesser/anaconda3/lib/python3.11/site-packages/sklearn/linear_model/_sag.py:350: ConvergenceWarning: The max_iter was reached which means the coef_ did not converge\n",
      "  warnings.warn(\n",
      "/Users/raylesser/anaconda3/lib/python3.11/site-packages/sklearn/linear_model/_logistic.py:460: ConvergenceWarning: lbfgs failed to converge (status=1):\n",
      "STOP: TOTAL NO. of ITERATIONS REACHED LIMIT.\n",
      "\n",
      "Increase the number of iterations (max_iter) or scale the data as shown in:\n",
      "    https://scikit-learn.org/stable/modules/preprocessing.html\n",
      "Please also refer to the documentation for alternative solver options:\n",
      "    https://scikit-learn.org/stable/modules/linear_model.html#logistic-regression\n",
      "  n_iter_i = _check_optimize_result(\n",
      "/Users/raylesser/anaconda3/lib/python3.11/site-packages/sklearn/linear_model/_logistic.py:460: ConvergenceWarning: lbfgs failed to converge (status=1):\n",
      "STOP: TOTAL NO. of ITERATIONS REACHED LIMIT.\n",
      "\n",
      "Increase the number of iterations (max_iter) or scale the data as shown in:\n",
      "    https://scikit-learn.org/stable/modules/preprocessing.html\n",
      "Please also refer to the documentation for alternative solver options:\n",
      "    https://scikit-learn.org/stable/modules/linear_model.html#logistic-regression\n",
      "  n_iter_i = _check_optimize_result(\n",
      "/Users/raylesser/anaconda3/lib/python3.11/site-packages/sklearn/linear_model/_logistic.py:460: ConvergenceWarning: lbfgs failed to converge (status=1):\n",
      "STOP: TOTAL NO. of ITERATIONS REACHED LIMIT.\n",
      "\n",
      "Increase the number of iterations (max_iter) or scale the data as shown in:\n",
      "    https://scikit-learn.org/stable/modules/preprocessing.html\n",
      "Please also refer to the documentation for alternative solver options:\n",
      "    https://scikit-learn.org/stable/modules/linear_model.html#logistic-regression\n",
      "  n_iter_i = _check_optimize_result(\n",
      "/Users/raylesser/anaconda3/lib/python3.11/site-packages/sklearn/linear_model/_logistic.py:460: ConvergenceWarning: lbfgs failed to converge (status=1):\n",
      "STOP: TOTAL NO. of ITERATIONS REACHED LIMIT.\n",
      "\n",
      "Increase the number of iterations (max_iter) or scale the data as shown in:\n",
      "    https://scikit-learn.org/stable/modules/preprocessing.html\n",
      "Please also refer to the documentation for alternative solver options:\n",
      "    https://scikit-learn.org/stable/modules/linear_model.html#logistic-regression\n",
      "  n_iter_i = _check_optimize_result(\n",
      "/Users/raylesser/anaconda3/lib/python3.11/site-packages/sklearn/linear_model/_logistic.py:460: ConvergenceWarning: lbfgs failed to converge (status=1):\n",
      "STOP: TOTAL NO. of ITERATIONS REACHED LIMIT.\n",
      "\n",
      "Increase the number of iterations (max_iter) or scale the data as shown in:\n",
      "    https://scikit-learn.org/stable/modules/preprocessing.html\n",
      "Please also refer to the documentation for alternative solver options:\n",
      "    https://scikit-learn.org/stable/modules/linear_model.html#logistic-regression\n",
      "  n_iter_i = _check_optimize_result(\n",
      "/Users/raylesser/anaconda3/lib/python3.11/site-packages/sklearn/linear_model/_sag.py:350: ConvergenceWarning: The max_iter was reached which means the coef_ did not converge\n",
      "  warnings.warn(\n",
      "/Users/raylesser/anaconda3/lib/python3.11/site-packages/sklearn/linear_model/_sag.py:350: ConvergenceWarning: The max_iter was reached which means the coef_ did not converge\n",
      "  warnings.warn(\n",
      "/Users/raylesser/anaconda3/lib/python3.11/site-packages/sklearn/linear_model/_sag.py:350: ConvergenceWarning: The max_iter was reached which means the coef_ did not converge\n",
      "  warnings.warn(\n",
      "/Users/raylesser/anaconda3/lib/python3.11/site-packages/sklearn/linear_model/_sag.py:350: ConvergenceWarning: The max_iter was reached which means the coef_ did not converge\n",
      "  warnings.warn(\n",
      "/Users/raylesser/anaconda3/lib/python3.11/site-packages/sklearn/linear_model/_sag.py:350: ConvergenceWarning: The max_iter was reached which means the coef_ did not converge\n",
      "  warnings.warn(\n",
      "/Users/raylesser/anaconda3/lib/python3.11/site-packages/sklearn/model_selection/_validation.py:425: FitFailedWarning: \n",
      "60 fits failed out of a total of 180.\n",
      "The score on these train-test partitions for these parameters will be set to nan.\n",
      "If these failures are not expected, you can try to debug them by setting error_score='raise'.\n",
      "\n",
      "Below are more details about the failures:\n",
      "--------------------------------------------------------------------------------\n",
      "30 fits failed with the following error:\n",
      "Traceback (most recent call last):\n",
      "  File \"/Users/raylesser/anaconda3/lib/python3.11/site-packages/sklearn/model_selection/_validation.py\", line 732, in _fit_and_score\n",
      "    estimator.fit(X_train, y_train, **fit_params)\n",
      "  File \"/Users/raylesser/anaconda3/lib/python3.11/site-packages/sklearn/base.py\", line 1151, in wrapper\n",
      "    return fit_method(estimator, *args, **kwargs)\n",
      "           ^^^^^^^^^^^^^^^^^^^^^^^^^^^^^^^^^^^^^^\n",
      "  File \"/Users/raylesser/anaconda3/lib/python3.11/site-packages/sklearn/linear_model/_logistic.py\", line 1168, in fit\n",
      "    solver = _check_solver(self.solver, self.penalty, self.dual)\n",
      "             ^^^^^^^^^^^^^^^^^^^^^^^^^^^^^^^^^^^^^^^^^^^^^^^^^^^\n",
      "  File \"/Users/raylesser/anaconda3/lib/python3.11/site-packages/sklearn/linear_model/_logistic.py\", line 56, in _check_solver\n",
      "    raise ValueError(\n",
      "ValueError: Solver lbfgs supports only 'l2' or 'none' penalties, got l1 penalty.\n",
      "\n",
      "--------------------------------------------------------------------------------\n",
      "30 fits failed with the following error:\n",
      "Traceback (most recent call last):\n",
      "  File \"/Users/raylesser/anaconda3/lib/python3.11/site-packages/sklearn/model_selection/_validation.py\", line 732, in _fit_and_score\n",
      "    estimator.fit(X_train, y_train, **fit_params)\n",
      "  File \"/Users/raylesser/anaconda3/lib/python3.11/site-packages/sklearn/base.py\", line 1151, in wrapper\n",
      "    return fit_method(estimator, *args, **kwargs)\n",
      "           ^^^^^^^^^^^^^^^^^^^^^^^^^^^^^^^^^^^^^^\n",
      "  File \"/Users/raylesser/anaconda3/lib/python3.11/site-packages/sklearn/linear_model/_logistic.py\", line 1168, in fit\n",
      "    solver = _check_solver(self.solver, self.penalty, self.dual)\n",
      "             ^^^^^^^^^^^^^^^^^^^^^^^^^^^^^^^^^^^^^^^^^^^^^^^^^^^\n",
      "  File \"/Users/raylesser/anaconda3/lib/python3.11/site-packages/sklearn/linear_model/_logistic.py\", line 56, in _check_solver\n",
      "    raise ValueError(\n",
      "ValueError: Solver sag supports only 'l2' or 'none' penalties, got l1 penalty.\n",
      "\n",
      "  warnings.warn(some_fits_failed_message, FitFailedWarning)\n",
      "/Users/raylesser/anaconda3/lib/python3.11/site-packages/sklearn/model_selection/_search.py:976: UserWarning: One or more of the test scores are non-finite: [       nan 0.55782565        nan 0.63111556 0.6364163  0.63111556\n",
      "        nan 0.62201374        nan 0.7518004  0.75224585 0.7518004\n",
      "        nan 0.77626994        nan 0.85202452 0.85203936 0.85202452\n",
      "        nan 0.88627892        nan 0.89725165 0.89742982 0.89737043\n",
      "        nan 0.90372539        nan 0.90521018 0.90648712 0.90575956\n",
      "        nan 0.90011729        nan 0.90375507 0.90338387 0.90611593]\n",
      "  warnings.warn(\n"
     ]
    },
    {
     "name": "stdout",
     "output_type": "stream",
     "text": [
      "Best Hyperparameters: {'C': 10, 'penalty': 'l2', 'solver': 'liblinear'}\n"
     ]
    }
   ],
   "source": [
    "# define hyperparameter range\n",
    "grid = {\n",
    "    'C': [0.001, 0.01, 0.1, 1, 10, 100],\n",
    "    'penalty': ['l1', 'l2'],\n",
    "    'solver': ['lbfgs', 'liblinear', 'sag']\n",
    "}\n",
    "\n",
    "# perform grid search with folds\n",
    "gs = GridSearchCV(estimator=bow_log_model, param_grid=grid, cv=5, scoring='accuracy')\n",
    "\n",
    "# fit grid search to training data\n",
    "gs.fit(final_train_X, train_y)\n",
    "\n",
    "# get best hyperparameters and the corresponding model\n",
    "best_params = gs.best_params_\n",
    "\n",
    "# print best hyperparameters\n",
    "print(\"Best Hyperparameters:\", best_params)"
   ]
  },
  {
   "cell_type": "code",
   "execution_count": 16,
   "id": "ecf8e7f1-2380-4539-a700-7a46b3a28692",
   "metadata": {
    "tags": []
   },
   "outputs": [
    {
     "name": "stdout",
     "output_type": "stream",
     "text": [
      "Best training accuracy 90.65%\n",
      "Accuracy on Test Data: 80.62%\n"
     ]
    }
   ],
   "source": [
    "# create model using optimized hyperparameters\n",
    "best_model = LogisticRegression(C=10, penalty='l2', solver='liblinear')\n",
    "best_model.fit(final_train_X, train_y)\n",
    "\n",
    "print(f'Best training accuracy {gs.best_score_:.2%}')\n",
    "\n",
    "y_pred = best_model.predict(final_test_X)\n",
    "\n",
    "# evaluate  optimized model\n",
    "test_accuracy = accuracy_score(test_y, y_pred)\n",
    "\n",
    "print(f'Accuracy on Test Data: {test_accuracy:.2%}')"
   ]
  },
  {
   "cell_type": "code",
   "execution_count": 17,
   "id": "94bf2199-ad72-41d1-a2de-9e3fde10e901",
   "metadata": {
    "tags": []
   },
   "outputs": [
    {
     "name": "stdout",
     "output_type": "stream",
     "text": [
      "Best training accuracy 90.65%\n",
      "Accuracy on Test Data: 82.22%\n"
     ]
    }
   ],
   "source": [
    "# create model using optimized hyperparameters\n",
    "best_model = LogisticRegression(C=.7, penalty='l2', solver='liblinear')\n",
    "best_model.fit(final_train_X, train_y)\n",
    "\n",
    "print(f'Best training accuracy {gs.best_score_:.2%}')\n",
    "\n",
    "y_pred = best_model.predict(final_test_X)\n",
    "\n",
    "# evaluate  optimized model\n",
    "test_accuracy = accuracy_score(test_y, y_pred)\n",
    "\n",
    "print(f'Accuracy on Test Data: {test_accuracy:.2%}')"
   ]
  },
  {
   "cell_type": "markdown",
   "id": "b53b28a8-8622-431e-9289-1a492dd30fd2",
   "metadata": {},
   "source": [
    "# 4.2 Grid Search Results and Hyper-parameter Selection\n",
    "\n",
    "The results of our grid search returned the optimized hyper-parameters of C: 10, penalty: l2, and solver: liblinear. These hyper-parameters returned an accuracy of 80.62% on the testing data. However, after manually exploring some C values I found that there were a few C values that performed better on the test data such as 2 which returned an accuracy of 82.11% and 0.7 which returned 82.22%. I added this value into the grid search and ran it again but it still returned 10 as the optimized number. This is likely due to overfitting, where the model is learning based on patterns that are specific to the training data and is therefore not able to generalize to new data. \n",
    "\n",
    "For example, as we discussed earlier the training data is significantly skewed towards short sentences, whereas the testing data has a more even distribution of sentence length. The model may have become very good at correctly identifying the sentiment of sentences that have 15 words or less, but is less able to identify patterns within longer sentences. The training data also has 10% more positive reviews relative to the testing data, so the model will likely become better at identifying positive reviews and therefore have more difficulty classifying the negative reviews in the testing data. \n",
    "\n",
    "To continue optimizing this model, we could select more C values to test as well as assess different metrics such as precision, recall, and F-1 score. It is only possible to test two metrics per grid search, so we would need to perform a few grid searches to be able to get all these values. For now we will continue with a C value of 0.7 for our optimized model since this is the manually tested value that produced the highest accuracy on the test data. "
   ]
  },
  {
   "cell_type": "markdown",
   "id": "267575f6-a51a-4799-8752-48a3ab2d9dd8",
   "metadata": {
    "tags": []
   },
   "source": [
    "# 5.1 Model Deployment\n",
    "\n",
    "Now that we have tuned our model, we can deploy it to an evaluation dataset so it an be used to predict the sentiment of reviews in real time. To summarize, our model was trained on  Bag-of-Words vectorized data and utilizes a Logistic Regression model with optimized parameters of C: 0.7, penalty: l2, and solver: liblinear. Rather than simply saving the model in a variable, we will Pickle the vectorizer and model so that they can be saved to disk and utilized in another program or sent over a network. This way both can continue to be utilized outside of this session. "
   ]
  },
  {
   "cell_type": "code",
   "execution_count": 18,
   "id": "1c071351-5453-41be-8a5e-437417feb19c",
   "metadata": {
    "tags": []
   },
   "outputs": [],
   "source": [
    "# store as pkl to call later\n",
    "joblib.dump(best_model, 'best_model.pkl')\n",
    "pkl_model = joblib.load('best_model.pkl')\n",
    "\n",
    "joblib.dump(CountVectorizer_BoW, 'best_vectorizer.pkl')\n",
    "pkl_vectorizer = joblib.load('best_vectorizer.pkl')"
   ]
  },
  {
   "cell_type": "markdown",
   "id": "69414ba3-be5b-49cd-b0b4-e797712d15a0",
   "metadata": {},
   "source": [
    "# 5.2 Deployment on Evaluation Set\n",
    "\n",
    "With our model saved, we can now call it on the evaluation dataset which does not yet contain any labels. First we must vectorize this data, for which we will again use the Bag-of-Words vectorizer. Once the data has been vectorized, we can run our model on it and see what it predicts for each sentence. Unfortunately we do not have labels to compare the results of our model to, but could perform a visual inspection and get a general idea of accuracy based on our own interpretation of the sentiment. We can also manually input sentences to see how the model performs as seen below."
   ]
  },
  {
   "cell_type": "code",
   "execution_count": 19,
   "id": "72006017-c184-4225-b061-1bd389e8ecb0",
   "metadata": {
    "tags": []
   },
   "outputs": [
    {
     "data": {
      "text/plain": [
       "array([0, 1, 1, 1, 0])"
      ]
     },
     "execution_count": 19,
     "metadata": {},
     "output_type": "execute_result"
    }
   ],
   "source": [
    "text = pkl_vectorizer.transform(['it is bad', 'it is good', 'it is ok', 'this movie was really great', 'this movie was not as good as it should have been'])\n",
    "predict = pkl_model.predict(text)\n",
    "predict"
   ]
  },
  {
   "cell_type": "code",
   "execution_count": 20,
   "id": "f1ad1f38-86b3-4a72-9d33-ccd33f91ad21",
   "metadata": {
    "tags": []
   },
   "outputs": [
    {
     "data": {
      "text/html": [
       "<div>\n",
       "<style scoped>\n",
       "    .dataframe tbody tr th:only-of-type {\n",
       "        vertical-align: middle;\n",
       "    }\n",
       "\n",
       "    .dataframe tbody tr th {\n",
       "        vertical-align: top;\n",
       "    }\n",
       "\n",
       "    .dataframe thead th {\n",
       "        text-align: right;\n",
       "    }\n",
       "</style>\n",
       "<table border=\"1\" class=\"dataframe\">\n",
       "  <thead>\n",
       "    <tr style=\"text-align: right;\">\n",
       "      <th></th>\n",
       "      <th>sentence</th>\n",
       "      <th>predicted_label</th>\n",
       "    </tr>\n",
       "  </thead>\n",
       "  <tbody>\n",
       "    <tr>\n",
       "      <th>0</th>\n",
       "      <td>uneasy mishmash of styles and genres .</td>\n",
       "      <td>0</td>\n",
       "    </tr>\n",
       "    <tr>\n",
       "      <th>1</th>\n",
       "      <td>this film 's relationship to actual tension is...</td>\n",
       "      <td>0</td>\n",
       "    </tr>\n",
       "    <tr>\n",
       "      <th>2</th>\n",
       "      <td>by the end of no such thing the audience , lik...</td>\n",
       "      <td>0</td>\n",
       "    </tr>\n",
       "    <tr>\n",
       "      <th>3</th>\n",
       "      <td>director rob marshall went out gunning to make...</td>\n",
       "      <td>1</td>\n",
       "    </tr>\n",
       "    <tr>\n",
       "      <th>4</th>\n",
       "      <td>lathan and diggs have considerable personal ch...</td>\n",
       "      <td>1</td>\n",
       "    </tr>\n",
       "    <tr>\n",
       "      <th>...</th>\n",
       "      <td>...</td>\n",
       "      <td>...</td>\n",
       "    </tr>\n",
       "    <tr>\n",
       "      <th>1816</th>\n",
       "      <td>it risks seeming slow and pretentious , becaus...</td>\n",
       "      <td>0</td>\n",
       "    </tr>\n",
       "    <tr>\n",
       "      <th>1817</th>\n",
       "      <td>take care of my cat offers a refreshingly diff...</td>\n",
       "      <td>1</td>\n",
       "    </tr>\n",
       "    <tr>\n",
       "      <th>1818</th>\n",
       "      <td>davis has filled out his cast with appealing f...</td>\n",
       "      <td>1</td>\n",
       "    </tr>\n",
       "    <tr>\n",
       "      <th>1819</th>\n",
       "      <td>it represents better-than-average movie-making...</td>\n",
       "      <td>0</td>\n",
       "    </tr>\n",
       "    <tr>\n",
       "      <th>1820</th>\n",
       "      <td>dazzling and sugar-sweet , a blast of shallow ...</td>\n",
       "      <td>1</td>\n",
       "    </tr>\n",
       "  </tbody>\n",
       "</table>\n",
       "<p>1821 rows × 2 columns</p>\n",
       "</div>"
      ],
      "text/plain": [
       "                                               sentence  predicted_label\n",
       "0                uneasy mishmash of styles and genres .                0\n",
       "1     this film 's relationship to actual tension is...                0\n",
       "2     by the end of no such thing the audience , lik...                0\n",
       "3     director rob marshall went out gunning to make...                1\n",
       "4     lathan and diggs have considerable personal ch...                1\n",
       "...                                                 ...              ...\n",
       "1816  it risks seeming slow and pretentious , becaus...                0\n",
       "1817  take care of my cat offers a refreshingly diff...                1\n",
       "1818  davis has filled out his cast with appealing f...                1\n",
       "1819  it represents better-than-average movie-making...                0\n",
       "1820  dazzling and sugar-sweet , a blast of shallow ...                1\n",
       "\n",
       "[1821 rows x 2 columns]"
      ]
     },
     "metadata": {},
     "output_type": "display_data"
    }
   ],
   "source": [
    "# vectorize evaulation data\n",
    "final_eval_X = pkl_vectorizer.transform(eval_df['sentence'])\n",
    "\n",
    "# run model on data\n",
    "predictions = pkl_model.predict(final_eval_X)\n",
    "\n",
    "# create dataframe for predictions\n",
    "predictions_df = pd.DataFrame(predictions, columns=['predicted_label'])\n",
    "\n",
    "# concatenate predicted label with original df\n",
    "merged_df = pd.concat([eval_df, predictions_df], axis=1)\n",
    "display(merged_df)"
   ]
  },
  {
   "cell_type": "markdown",
   "id": "98c9f905-b3c7-4909-a30b-177d0e19c2f4",
   "metadata": {},
   "source": [
    "# 5.3 Discussion\n",
    "\n",
    "One ethical implication of my solution is the potential reinforcement of biases in film criticism. If the dataset predominantly features reviews from a particular demographic or cultural perspective, my model may learn to prioritize and amplify sentiments aligned with those perspectives, leading to biased predictions. As a result, my model's predictions may reflect and perpetuate existing biases in film criticism and potentially influence audience perceptions and consumption patterns. \n",
    "\n",
    "With regard to scientific integrity, my model utilizes standardized benchmark data from a reputable source and with a clear and transparent design, ensuring consistency with other similar models. There is certainly more testing and fine tuning that could be done, but the fact that the GLUE benchmark data is widely used to train models ensures that the data used is in line with community standards. Additionally, there is clear explanation of the design and function of my model, allowing transparency for those seeking to understand my model's design and function. While the data is reputable and used as a benchmark for training, my model should be trained on more substantially diverse datasets before being widely deployed.\n",
    "\n",
    "A potential unintended consequence of my analysis is incorrect sentiment classification or bias towards reviews by groups that utilize a certain type of language or reference specific movie genres. It may indadvertantly learn to prioritize or favor sentiments expressed by those groups or about those genres, potentially leading to biased predictions. This could result in the marginilization of underrepresented perspectives in the analysis of movie reviews. Additionally, if this model were used in a real-world application such as a movie recommendation tool it could be using biased criteria to influence users' choices, leading to certain movies being overlooked or not recommended to users.\n",
    "\n",
    "In the broader context of machine learning, technologies such as these have the potential to shape our perceptions, preferences, and behaviors, ultimately influencing cultural trends and societal norms. Especially with regard to sentiment analysis which is a very complex and wide-reaching application of machine learning, it is crucial to recognize the potential for unintended consequences and ethical dilemmas. With subjective data such as this we must ensure we are recognizing the intricacies of human perception and expression in our approach to data collection and analysis."
   ]
  },
  {
   "cell_type": "markdown",
   "id": "d2b11adc-166a-4488-9013-c37333d4503e",
   "metadata": {},
   "source": [
    "# Citations\n",
    "\n",
    "LDSCI7236 Theory and Applications of Data Analytics module materials - Dr. Ioannis Kypraios\n",
    "\n",
    "Scikit-learn. \"sklearn.feature_extraction.text.CountVectorizer.\" Available online: https://scikit-learn.org/stable/modules/generated/sklearn.feature_extraction.text.CountVectorizer.html\n",
    "\n",
    "Scikit-learn. \"sklearn.feature_extraction.text.TfidfVectorizer.\" Available online: https://scikit-learn.org/stable/modules/generated/sklearn.feature_extraction.text.TfidfVectorizer.html\n",
    "\n",
    "FC Lésio. \"A Complete Guide to Feature Engineering.\" Gist GitHub. Available online: https://gist.github.com/fclesio/bb5871281debc07d75127552c56b08b5\n",
    "\n",
    "Scikit-learn. \"sklearn.linear_model.LogisticRegression.\" Available online: https://scikit-learn.org/stable/modules/generated/sklearn.linear_model.LogisticRegression.html\n",
    "\n",
    "Scikit-learn. \"Naive Bayes.\" Available online: https://scikit-learn.org/stable/modules/naive_bayes.html#multinomial-naive-bayes\n",
    "\n",
    "IBM. \"Regularization.\" Available online: https://www.ibm.com/topics/regularization#:~:text=Regularization%20is%20a%20set%20of,overfitting%20in%20machine%20learning%20models.\n",
    "\n",
    "IBM. \"Overfitting.\" Available online: https://www.ibm.com/topics/overfitting\n",
    "\n",
    "OpenReview. \"Towards Unbiased Models via Normalization of Dataset Labels.\" Available online: https://openreview.net/pdf?id=rJ4km2R5t7"
   ]
  }
 ],
 "metadata": {
  "kernelspec": {
   "display_name": "Python 3 (ipykernel)",
   "language": "python",
   "name": "python3"
  },
  "language_info": {
   "codemirror_mode": {
    "name": "ipython",
    "version": 3
   },
   "file_extension": ".py",
   "mimetype": "text/x-python",
   "name": "python",
   "nbconvert_exporter": "python",
   "pygments_lexer": "ipython3",
   "version": "3.11.5"
  }
 },
 "nbformat": 4,
 "nbformat_minor": 5
}
